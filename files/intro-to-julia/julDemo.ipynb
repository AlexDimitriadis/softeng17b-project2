{
 "cells": [
  {
   "cell_type": "markdown",
   "metadata": {},
   "source": [
    "### Πολλαπλασιασμός\n",
    "\n",
    "Ας δούμε λίγη assembly!"
   ]
  },
  {
   "cell_type": "code",
   "execution_count": 1,
   "metadata": {},
   "outputs": [
    {
     "name": "stdout",
     "output_type": "stream",
     "text": [
      "\t.text\n",
      "Filename: int.jl\n",
      "\tpushq\t%rbp\n",
      "\tmovq\t%rsp, %rbp\n",
      "Source line: 33\n",
      "\timulq\t%rsi, %rdi\n",
      "\tmovq\t%rdi, %rax\n",
      "\tpopq\t%rbp\n",
      "\tretq\n",
      "\tnopl\t(%rax)\n"
     ]
    }
   ],
   "source": [
    "@code_native 2*5 # Ίδιο αποτέλεσμα C και Julia σε επίπεδο assembly"
   ]
  },
  {
   "cell_type": "markdown",
   "metadata": {},
   "source": [
    "### Exponentiation"
   ]
  },
  {
   "cell_type": "code",
   "execution_count": 2,
   "metadata": {},
   "outputs": [
    {
     "data": {
      "text/plain": [
       "32"
      ]
     },
     "execution_count": 2,
     "metadata": {},
     "output_type": "execute_result"
    }
   ],
   "source": [
    "2^5"
   ]
  },
  {
   "cell_type": "code",
   "execution_count": 3,
   "metadata": {},
   "outputs": [
    {
     "ename": "LoadError",
     "evalue": "DomainError:\nCannot raise an integer x to a negative power -n. \nMake x a float by adding a zero decimal (e.g. 2.0^-n instead of 2^-n), or write 1/x^n, float(x)^-n, or (x//1)^-n.",
     "output_type": "error",
     "traceback": [
      "DomainError:\nCannot raise an integer x to a negative power -n. \nMake x a float by adding a zero decimal (e.g. 2.0^-n instead of 2^-n), or write 1/x^n, float(x)^-n, or (x//1)^-n.",
      "",
      "Stacktrace:",
      " [1] \u001b[1mpower_by_squaring\u001b[22m\u001b[22m\u001b[1m(\u001b[22m\u001b[22m::Int64, ::Int64\u001b[1m)\u001b[22m\u001b[22m at \u001b[1m./intfuncs.jl:173\u001b[22m\u001b[22m",
      " [2] \u001b[1mliteral_pow\u001b[22m\u001b[22m\u001b[1m(\u001b[22m\u001b[22m::Base.#^, ::Int64, ::Type{Val{-5}}\u001b[1m)\u001b[22m\u001b[22m at \u001b[1m./intfuncs.jl:208\u001b[22m\u001b[22m",
      " [3] \u001b[1minclude_string\u001b[22m\u001b[22m\u001b[1m(\u001b[22m\u001b[22m::String, ::String\u001b[1m)\u001b[22m\u001b[22m at \u001b[1m./loading.jl:522\u001b[22m\u001b[22m"
     ]
    }
   ],
   "source": [
    "2^(-5) # (Int64 , Int64) -> Int64 (Type Stability)"
   ]
  },
  {
   "cell_type": "markdown",
   "metadata": {},
   "source": [
    "Julia μας τα χαλάς..."
   ]
  },
  {
   "cell_type": "code",
   "execution_count": 4,
   "metadata": {},
   "outputs": [
    {
     "name": "stdout",
     "output_type": "stream",
     "text": [
      "\t.text\n",
      "Filename: intfuncs.jl\n",
      "\tpushq\t%rbp\n",
      "\tmovq\t%rsp, %rbp\n",
      "Source line: 197\n",
      "\tcallq\tpower_by_squaring\n",
      "\tpopq\t%rbp\n",
      "\tretq\n",
      "\tnopl\t(%rax,%rax)\n"
     ]
    }
   ],
   "source": [
    "@code_native ^(2,5)"
   ]
  },
  {
   "cell_type": "markdown",
   "metadata": {},
   "source": [
    "Ας φτιάξουμε μια \"φυσιολογική\" συνάρτηση!"
   ]
  },
  {
   "cell_type": "code",
   "execution_count": 5,
   "metadata": {},
   "outputs": [
    {
     "data": {
      "text/plain": [
       "expo (generic function with 1 method)"
      ]
     },
     "execution_count": 5,
     "metadata": {},
     "output_type": "execute_result"
    }
   ],
   "source": [
    "function expo(x,y)\n",
    "    if y>0\n",
    "        return x^y\n",
    "    else\n",
    "        x = convert(Float64,x)\n",
    "        return x^y\n",
    "    end\n",
    "end"
   ]
  },
  {
   "cell_type": "code",
   "execution_count": 6,
   "metadata": {},
   "outputs": [
    {
     "name": "stdout",
     "output_type": "stream",
     "text": [
      "32\n",
      "0.03125\n"
     ]
    }
   ],
   "source": [
    "println(expo(2,5))\n",
    "println(expo(2,-5))"
   ]
  },
  {
   "cell_type": "code",
   "execution_count": 7,
   "metadata": {},
   "outputs": [
    {
     "name": "stdout",
     "output_type": "stream",
     "text": [
      "\t.text\n",
      "Filename: In[5]\n",
      "\tpushq\t%rbp\n",
      "\tmovq\t%rsp, %rbp\n",
      "\tpushq\t%rbx\n",
      "\tsubq\t$24, %rsp\n",
      "\tmovq\t%rdi, %rbx\n",
      "Source line: 2\n",
      "\ttestq\t%rdx, %rdx\n",
      "\tjle\tL42\n",
      "Source line: 3\n",
      "\tmovabsq\t$power_by_squaring, %rax\n",
      "\tmovq\t%rsi, %rdi\n",
      "\tmovq\t%rdx, %rsi\n",
      "\tcallq\t*%rax\n",
      "\tmovb\t$1, %dl\n",
      "\tmovq\t%rax, (%rbx)\n",
      "\tjmp\tL108\n",
      "Source line: 5\n",
      "L42:\n",
      "\txorps\t%xmm0, %xmm0\n",
      "\tcvtsi2sdq\t%rsi, %xmm0\n",
      "Source line: 701\n",
      "\tmovsd\t%xmm0, -24(%rbp)\n",
      "\txorps\t%xmm1, %xmm1\n",
      "\tcvtsi2sdq\t%rdx, %xmm1\n",
      "Source line: 699\n",
      "\tmovsd\t%xmm1, -16(%rbp)\n",
      "\tmovabsq\t$__pow, %rax\n",
      "\tcallq\t*%rax\n",
      "\tmovsd\t-24(%rbp), %xmm1        # xmm1 = mem[0],zero\n",
      "\taddsd\t-16(%rbp), %xmm1\n",
      "Source line: 300\n",
      "\tucomisd\t%xmm1, %xmm1\n",
      "\tjp\tL102\n",
      "\tucomisd\t%xmm0, %xmm0\n",
      "\tjp\tL118\n",
      "Source line: 6\n",
      "L102:\n",
      "\tmovb\t$2, %dl\n",
      "\tmovsd\t%xmm0, (%rbx)\n",
      "Source line: 3\n",
      "L108:\n",
      "\tmovq\t%rbx, %rax\n",
      "\taddq\t$24, %rsp\n",
      "\tpopq\t%rbx\n",
      "\tpopq\t%rbp\n",
      "\tretq\n",
      "Source line: 300\n",
      "L118:\n",
      "\tmovabsq\t$jl_throw, %rax\n",
      "\tmovabsq\t$140365994486944, %rdi  # imm = 0x7FA9813D6CA0\n",
      "\tcallq\t*%rax\n",
      "\tnopl\t(%rax)\n"
     ]
    }
   ],
   "source": [
    "@code_native expo(2,5) # Η expo δεν είναι type stable!"
   ]
  },
  {
   "cell_type": "code",
   "execution_count": null,
   "metadata": {},
   "outputs": [],
   "source": []
  }
 ],
 "metadata": {
  "kernelspec": {
   "display_name": "Julia 0.6.2",
   "language": "julia",
   "name": "julia-0.6"
  },
  "language_info": {
   "file_extension": ".jl",
   "mimetype": "application/julia",
   "name": "julia",
   "version": "0.6.2"
  }
 },
 "nbformat": 4,
 "nbformat_minor": 2
}
