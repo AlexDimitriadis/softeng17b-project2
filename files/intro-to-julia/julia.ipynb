{
 "cells": [
  {
   "cell_type": "markdown",
   "metadata": {
    "slideshow": {
     "slide_type": "slide"
    }
   },
   "source": [
    "# Εισαγωγή στη γλώσσα Julia\n",
    "![julia logo](./Julia_prog_language.png \"Julia Logo\")\n",
    "## Στρατής Τσιρτσής\n",
    "## Τεχνολογία Λογισμικού - 28/2/2018"
   ]
  },
  {
   "cell_type": "markdown",
   "metadata": {
    "slideshow": {
     "slide_type": "slide"
    }
   },
   "source": [
    "![disclaimer](./Attention.png \"Disclaimer\")"
   ]
  },
  {
   "cell_type": "markdown",
   "metadata": {
    "slideshow": {
     "slide_type": "slide"
    }
   },
   "source": [
    "### Γιατί Julia;"
   ]
  },
  {
   "cell_type": "markdown",
   "metadata": {
    "slideshow": {
     "slide_type": "fragment"
    }
   },
   "source": [
    "* Γιατί η σύγχρονη καθημερινότητα, δημιουργεί προβλήματα αυξημένης πολυπλοκότητας"
   ]
  },
  {
   "cell_type": "markdown",
   "metadata": {
    "slideshow": {
     "slide_type": "fragment"
    }
   },
   "source": [
    "* Γιατί η πληροφορική γίνεται, μέρα με τη μέρα, απαραίτητη σε όλους τους επιστημονικούς τομείς"
   ]
  },
  {
   "cell_type": "markdown",
   "metadata": {
    "slideshow": {
     "slide_type": "fragment"
    }
   },
   "source": [
    "* Γιατί επιστήμονες όπως βιολόγοι, μαθηματικοί, κοινωνιολόγοι, φυσικοί κλπ υλοποιούν προσομοιώσεις μεγάλης υπολογιστικής ισχύος χωρίς να έχουν background μηχανικού"
   ]
  },
  {
   "cell_type": "markdown",
   "metadata": {
    "slideshow": {
     "slide_type": "slide"
    }
   },
   "source": [
    "### Ναι, αλλά γιατί Julia;\n",
    "\n",
    "Γιατί σε σχέση με άλλες γλώσσες προγραμματισμού συνδυάζει όλα τα παρακάτω στοιχεία:\n",
    "* Σύγχρονη\n",
    "* Απλή\n",
    "* Αποδοτική"
   ]
  },
  {
   "cell_type": "markdown",
   "metadata": {
    "slideshow": {
     "slide_type": "slide"
    }
   },
   "source": [
    "### Python/R/MATLAB: Συνομιλώντας με το δήμαρχο\n",
    "![mayor](./mayor.png \"Mayor\")"
   ]
  },
  {
   "cell_type": "markdown",
   "metadata": {
    "slideshow": {
     "slide_type": "fragment"
    }
   },
   "source": [
    "* Ασχολείται εκείνος με τα προβλήματά μας για να κάνει τη ζωή μας εύκολότερη"
   ]
  },
  {
   "cell_type": "markdown",
   "metadata": {
    "slideshow": {
     "slide_type": "fragment"
    }
   },
   "source": [
    "* Του λέμε κάτι και προσπαθεί να μας δώσει αυτό που θέλουμε"
   ]
  },
  {
   "cell_type": "markdown",
   "metadata": {
    "slideshow": {
     "slide_type": "fragment"
    }
   },
   "source": [
    "* Μπορεί να κάνει κάποια πράγματα στα κρυφά γιατί \"έτσι είναι καλύτερα\""
   ]
  },
  {
   "cell_type": "markdown",
   "metadata": {
    "slideshow": {
     "slide_type": "fragment"
    }
   },
   "source": [
    "* Αποκλείεται να πάρουμε γρήγορη απάντηση"
   ]
  },
  {
   "cell_type": "markdown",
   "metadata": {
    "slideshow": {
     "slide_type": "slide"
    }
   },
   "source": [
    "### C/Fortran: Συνομιλώντας με το φιλόσοφο\n",
    "![philosophers](./philosophers.jpeg \"Philosophers\")"
   ]
  },
  {
   "cell_type": "markdown",
   "metadata": {
    "slideshow": {
     "slide_type": "fragment"
    }
   },
   "source": [
    "* Αναφέρουμε ένα πρόβλημα και θέλει να του πούμε ΟΛΕΣ τις λεπτομέρειες"
   ]
  },
  {
   "cell_type": "markdown",
   "metadata": {
    "slideshow": {
     "slide_type": "fragment"
    }
   },
   "source": [
    "* Ξοδεύουμε ώρες επί ωρών για να ανακαλύψουμε όλες τις πλευρές του προβλήματος"
   ]
  },
  {
   "cell_type": "markdown",
   "metadata": {
    "slideshow": {
     "slide_type": "fragment"
    }
   },
   "source": [
    "* Όταν καταφέρουμε να του εξηγήσουμε το πρόβλημα όπως ακριβώς θέλει, η συζήτηση μαζί του κοιλά πολύ γρηγορότερα γιατί είναι πανέξυπνος"
   ]
  },
  {
   "cell_type": "markdown",
   "metadata": {
    "slideshow": {
     "slide_type": "fragment"
    }
   },
   "source": [
    "* Αν θέλουμε να συζητήσουμε μαζί του κάποιο άλλο θέμα, πρέπει να το πιάσουμε πάλι από τα βασικά "
   ]
  },
  {
   "cell_type": "markdown",
   "metadata": {
    "slideshow": {
     "slide_type": "slide"
    }
   },
   "source": [
    "### Demo"
   ]
  },
  {
   "cell_type": "markdown",
   "metadata": {
    "slideshow": {
     "slide_type": "slide"
    }
   },
   "source": [
    "### Benchmarks\n",
    "![benchmarks](./benchmarks.png \"Benchmarks\")"
   ]
  },
  {
   "cell_type": "markdown",
   "metadata": {
    "slideshow": {
     "slide_type": "slide"
    }
   },
   "source": [
    "### Ναι, ΑΛΛΑ ΓΙΑΤΙ JULIA;"
   ]
  },
  {
   "cell_type": "markdown",
   "metadata": {
    "slideshow": {
     "slide_type": "fragment"
    }
   },
   "source": [
    "* Just-In-Time Compilation\n",
    "* Dynamic Typing\n",
    "* Type Stability\n",
    "* Multiple Dispatch"
   ]
  },
  {
   "cell_type": "markdown",
   "metadata": {
    "slideshow": {
     "slide_type": "slide"
    }
   },
   "source": [
    "### Just-In-Time Compilation\n",
    "\n",
    "| Type        | Pre-Runtime                                | Runtime                     |\n",
    "|-------------|--------------------------------------------|-----------------------------|\n",
    "| Compiler    | Source Code -> Object Code -> Machine Code |                             |\n",
    "| Interpreter |                                            | Source Code -> Machine Code |\n",
    "| JIT Compiler| Source Code -> Byte Code                   | Byte Code -> Machine Code   |"
   ]
  },
  {
   "cell_type": "markdown",
   "metadata": {
    "slideshow": {
     "slide_type": "slide"
    }
   },
   "source": [
    "### Dynamic Typing"
   ]
  },
  {
   "cell_type": "code",
   "execution_count": 1,
   "metadata": {
    "slideshow": {
     "slide_type": "fragment"
    }
   },
   "outputs": [
    {
     "name": "stdout",
     "output_type": "stream",
     "text": [
      "b is: Int64\n",
      "b is: Char\n",
      "foo is: #foo\n"
     ]
    }
   ],
   "source": [
    "function foo(a)\n",
    "    a+5\n",
    "end\n",
    "\n",
    "b=foo(4)\n",
    "println(\"b is: \", typeof(b))\n",
    "b=foo('4')\n",
    "println(\"b is: \", typeof(b))\n",
    "println(\"foo is: \", typeof(foo))"
   ]
  },
  {
   "cell_type": "markdown",
   "metadata": {
    "slideshow": {
     "slide_type": "fragment"
    }
   },
   "source": [
    "* Οι τύποι δεν δηλώνονται αυστηρά"
   ]
  },
  {
   "cell_type": "markdown",
   "metadata": {
    "slideshow": {
     "slide_type": "fragment"
    }
   },
   "source": [
    "* Type inference μόνο για λόγους βελτιστοποίησης (Οι συναρτήσεις μπορεί να γραφτούν στο πόδι αλλά \"θα παίξει\")"
   ]
  },
  {
   "cell_type": "markdown",
   "metadata": {
    "slideshow": {
     "slide_type": "fragment"
    }
   },
   "source": [
    "* **Haskell/OCaml**: Type <-> Expression (Η συνάρτηση καταλαβαίνει και περιμένει συγκεκριμένους τύπους)\n",
    "* **Julia**: Type <-> Value (Η συνάρτηση δεν περιμένει τύπους αλλά προσπαθεί να διαχειριστεί τις τιμές) "
   ]
  },
  {
   "cell_type": "markdown",
   "metadata": {
    "slideshow": {
     "slide_type": "slide"
    }
   },
   "source": [
    "### Type Stability"
   ]
  },
  {
   "cell_type": "markdown",
   "metadata": {
    "slideshow": {
     "slide_type": "fragment"
    }
   },
   "source": [
    "* Βασική σχεδιαστική αρχή"
   ]
  },
  {
   "cell_type": "markdown",
   "metadata": {
    "slideshow": {
     "slide_type": "fragment"
    }
   },
   "source": [
    "* Ορίζουμε τις συναρτήσεις για τιμές εισόδου συγκεκριμένου τύπου ώστε οι τιμές εξόδου να είναι συγκεκριμένου τύπου"
   ]
  },
  {
   "cell_type": "markdown",
   "metadata": {
    "slideshow": {
     "slide_type": "fragment"
    }
   },
   "source": [
    "* Ουσιαστικά είναι σαν να έχουμε ορίσει στατικά τους τύπους!"
   ]
  },
  {
   "cell_type": "markdown",
   "metadata": {
    "slideshow": {
     "slide_type": "fragment"
    }
   },
   "source": [
    "* Δυνατότητα compilation optimization ίδια με C!"
   ]
  },
  {
   "cell_type": "markdown",
   "metadata": {
    "slideshow": {
     "slide_type": "slide"
    }
   },
   "source": [
    "### Multiple Dispatch"
   ]
  },
  {
   "cell_type": "markdown",
   "metadata": {
    "slideshow": {
     "slide_type": "fragment"
    }
   },
   "source": [
    "* Δυνατότητα πολυμορφισμού"
   ]
  },
  {
   "cell_type": "markdown",
   "metadata": {
    "slideshow": {
     "slide_type": "fragment"
    }
   },
   "source": [
    "* Ανάλογα με τον τύπο της εισόδου, εκτελείται διαφορετικός κώδικας για την ίδια συνάρτηση"
   ]
  },
  {
   "cell_type": "markdown",
   "metadata": {
    "slideshow": {
     "slide_type": "fragment"
    }
   },
   "source": [
    "* **Method overloading (Java)**: Εξαρτάται από το τύπο των μεταβλητών εισόδου (Compile time)\n",
    "* **Multiple dispatch (Julia)**: Εξαρτάται από τον τύπο των τιμών εισόδου (Runtime)"
   ]
  },
  {
   "cell_type": "markdown",
   "metadata": {
    "slideshow": {
     "slide_type": "slide"
    }
   },
   "source": [
    "### DEMO #2"
   ]
  },
  {
   "cell_type": "markdown",
   "metadata": {
    "slideshow": {
     "slide_type": "slide"
    }
   },
   "source": [
    "### Multiple Dispatch + Type Stability -> Speed + Readability"
   ]
  },
  {
   "cell_type": "markdown",
   "metadata": {
    "slideshow": {
     "slide_type": "fragment"
    }
   },
   "source": [
    "* Η συνάρτηση του πολλαπλασιασμού μπορεί να είναι type stable"
   ]
  },
  {
   "cell_type": "markdown",
   "metadata": {
    "slideshow": {
     "slide_type": "fragment"
    }
   },
   "source": [
    "* Για διαφορετικούς τύπους τιμών εισόδου κάνει διαφορετικά πράγματα λόγω του multiple dispatch"
   ]
  },
  {
   "cell_type": "markdown",
   "metadata": {
    "slideshow": {
     "slide_type": "fragment"
    }
   },
   "source": [
    "* Γνωρίζοντας ποια \"μορφή\" της συνάρτησης θα εκτελεστεί, γνωρίζει και τον τύπο της εξόδου"
   ]
  },
  {
   "cell_type": "markdown",
   "metadata": {
    "slideshow": {
     "slide_type": "fragment"
    }
   },
   "source": [
    "* Ο τύπος αυτός μπορεί να χρησιμοποιηθεί και στη συνέχεια του προγράμματος για περαιτέρω optimization"
   ]
  },
  {
   "cell_type": "markdown",
   "metadata": {
    "slideshow": {
     "slide_type": "fragment"
    }
   },
   "source": [
    "* Χρειαζόμαστε type stability για να πετύχουμε μεγάλη απόδοση"
   ]
  },
  {
   "cell_type": "markdown",
   "metadata": {
    "slideshow": {
     "slide_type": "fragment"
    }
   },
   "source": [
    "* Το multiple dispatch είναι απαραίτητο για να κάνουμε τον κώδικα απλούστερο στην εμφάνιση"
   ]
  },
  {
   "cell_type": "markdown",
   "metadata": {
    "slideshow": {
     "slide_type": "fragment"
    }
   },
   "source": [
    "* **JIT Python != Julia**"
   ]
  },
  {
   "cell_type": "markdown",
   "metadata": {
    "slideshow": {
     "slide_type": "slide"
    }
   },
   "source": [
    "### Αναφορές\n",
    "[1]https://julialang.org/\n",
    "\n",
    "[2]http://nbviewer.jupyter.org/url/julialang.org/benchmarks/benchmarks.ipynb\n",
    "\n",
    "[3]https://en.wikipedia.org/wiki/Just-in-time_compilation\n",
    "\n",
    "[4]https://stackoverflow.com/questions/95635/what-does-a-just-in-time-jit-compiler-do\n",
    "\n",
    "[5]http://ucidatascienceinitiative.github.io/IntroToJulia/\n",
    "\n",
    "[6]https://stackoverflow.com/questions/1801216/what-is-the-difference-between-multiple-dispatch-and-method-overloading"
   ]
  },
  {
   "cell_type": "markdown",
   "metadata": {
    "slideshow": {
     "slide_type": "slide"
    }
   },
   "source": [
    "# Ερωτήσεις???"
   ]
  }
 ],
 "metadata": {
  "celltoolbar": "Slideshow",
  "kernelspec": {
   "display_name": "Julia 0.6.2",
   "language": "julia",
   "name": "julia-0.6"
  },
  "language_info": {
   "file_extension": ".jl",
   "mimetype": "application/julia",
   "name": "julia",
   "version": "0.6.2"
  }
 },
 "nbformat": 4,
 "nbformat_minor": 2
}
